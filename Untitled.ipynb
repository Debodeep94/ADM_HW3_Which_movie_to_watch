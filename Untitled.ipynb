{
 "cells": [
  {
   "cell_type": "code",
   "execution_count": 1,
   "metadata": {},
   "outputs": [],
   "source": [
    "from __future__ import print_function\n",
    "import  requests\n",
    "from bs4 import BeautifulSoup\n",
    "import pandas as pd\n",
    "import csv"
   ]
  },
  {
   "cell_type": "code",
   "execution_count": 2,
   "metadata": {},
   "outputs": [],
   "source": [
    "movies_url=\"https://raw.githubusercontent.com/CriMenghini/ADM/master/2019/Homework_3/data/movies1.html\"\n",
    "\n",
    "movies_response = requests.get(movies_url)"
   ]
  },
  {
   "cell_type": "code",
   "execution_count": 5,
   "metadata": {},
   "outputs": [
    {
     "data": {
      "text/plain": [
       "[<style>\n",
       " table, th, td {border: 1px solid black;}</style>,\n",
       " <link href=\"https://www.w3schools.com/browserref.css\" rel=\"stylesheet\" type=\"text/css\"/>]"
      ]
     },
     "execution_count": 5,
     "metadata": {},
     "output_type": "execute_result"
    }
   ],
   "source": [
    "movies1_soup = BeautifulSoup(movies_response.text, 'html.parser')\n",
    "movies1_soup.head()"
   ]
  },
  {
   "cell_type": "code",
   "execution_count": 32,
   "metadata": {},
   "outputs": [],
   "source": [
    "links=movies1_soup.findAll(\"a\")"
   ]
  },
  {
   "cell_type": "code",
   "execution_count": 9,
   "metadata": {},
   "outputs": [],
   "source": [
    "movies1=[]\n",
    "for tag in links:\n",
    "    page=tag.get('href')\n",
    "    movies1.append(page)\n"
   ]
  },
  {
   "cell_type": "code",
   "execution_count": 7,
   "metadata": {},
   "outputs": [],
   "source": [
    "from urllib.error import URLError, HTTPError, ContentTooShortError\n",
    "import time\n",
    "#k=1\n",
    "#for i in range(len(movies1)):\n",
    "    try:\n",
    "        mv1url=requests.get(movies1[i])\n",
    "        #soup=BeautifulSoup(urls.content,\"html.parser\")\n",
    "        #soup=soup.prettify(\"utf-8\")\n",
    "        \n",
    "        Html=\"M1article_\"+str(k)+\".html\"\n",
    "        k=k+1\n",
    "        Html_file=open(Html, \"w\", encoding=\"utf-8\")\n",
    "        Html_file.write(mv1url.text)\n",
    "        Html_file.close()\n",
    "        time.sleep(1)\n",
    "    except(URLError, HTTPError, ContentTooShortError) as e:\n",
    "        html=None\n",
    "        time.sleep(20*60)"
   ]
  },
  {
   "cell_type": "code",
   "execution_count": 52,
   "metadata": {},
   "outputs": [],
   "source": [
    "path=\"C:\\\\Users\\DELL\\Movies\\M1article_\"+str(i)+\".html\"\n",
    "with open(path,\"r\",encoding=\"utf-8\") as f:\n",
    "    contents=f.read()\n",
    "    page=BeautifulSoup(contents,'lxml')"
   ]
  },
  {
   "cell_type": "code",
   "execution_count": 12,
   "metadata": {},
   "outputs": [],
   "source": [
    "def title(page):\n",
    "    return(page.find('h1',class_=\"firstHeading\").get_text('i'))"
   ]
  },
  {
   "cell_type": "code",
   "execution_count": 16,
   "metadata": {},
   "outputs": [],
   "source": [
    "def intro(page):\n",
    "    content=page.find('div',class_=\"toc\")\n",
    "    if content != None:\n",
    "        thres=content.findPreviousSiblings()\n",
    "        intr_pg=''\n",
    "        for i in thres:\n",
    "            if i.name==\"p\":\n",
    "                intr_pg+=i.text\n",
    "            else: break\n",
    "        return intr_pg\n",
    "    elif content != None:\n",
    "        thres=content.findNextSiblings()\n",
    "        intr_pg=''\n",
    "        for i in thres:\n",
    "            if i.name==\"p\":\n",
    "                intr_pg+=i.text\n",
    "            else: break\n",
    "        return intr_pg"
   ]
  },
  {
   "cell_type": "code",
   "execution_count": 18,
   "metadata": {},
   "outputs": [],
   "source": [
    "def plot(page):\n",
    "    headlines=page.findAll(class_='mw-headline')\n",
    "    for i in headlines:\n",
    "        if i.text=='Plot':\n",
    "            plt_hd=i.find_parent()\n",
    "            plt_pg=\"\"\n",
    "            for i in plt_hd.findNextSiblings():\n",
    "                if i.name==\"p\":\n",
    "                    plt_pg+=i.text\n",
    "                else: break\n",
    "            return(plt_pg)"
   ]
  },
  {
   "cell_type": "code",
   "execution_count": 31,
   "metadata": {},
   "outputs": [
    {
     "name": "stdout",
     "output_type": "stream",
     "text": [
      "['Love by the Light of the Moon', 'Love by the Light of the Moon is a 1901 film by Edwin S. Porter, produced by the Edison Manufacturing Company.[1] It mixes animation and live action and predates the man in the moon theme of the 1902 French science fiction film A Trip to the Moon by Georges Méliès.\\n', \"The moon, painted with a smiling face hangs over a park at night. A young couple walking past a fence learn on a railing and look up. The moon smiles. They embrace, and the moon's smile gets bigger. They then sit down on a bench by a tree. The moon's view is blocked, causing him to frown. In the last scene, the man fans the woman with his hat because the moon has left the sky and is perched over her shoulder to see everything better.\\n\"]\n",
      "['The Martyred Presidents', 'The Martyred Presidents is a 1901 American film directed by Edwin S. Porter.\\n', None]\n",
      "['Terrible Teddy, the Grizzly King', 'Terrible Teddy, the Grizzly King is a 1901 American silent film directed by Edwin S. Porter. Produced by the Edison Manufacturing Company, it is the earliest known political satire in American film. It features three actors, all of whom are unknown.\\n', 'Lasting just 61 seconds and consisting of two shots, the first shot is set in a wood during winter. The actor representing then vice-president Theodore Roosevelt enthusiastically hurries down a hillside towards a tree in the foreground. He falls once, but rights himself and cocks his rifle. Two other men, bearing signs reading \"His Photographer\" and \"His Press Agent\" respectively, follow him into the shot; the photographer sets up his camera. \"Teddy\" aims his rifle upward at the tree and fells what appears to be a common house cat, which he then proceeds to stab. \"Teddy\" holds his prize aloft, and the press agent takes notes. The second shot is taken in a slightly different part of the wood, on a path. \"Teddy\" rides the path on his horse towards the camera and out to the left of the shot, followed closely by the press agent and photographer, still dutifully holding their signs.\\n']\n",
      "['Jack and the Beanstalki (1902 film)', None, None]\n",
      "['Alice in Wonderlandi (1903 film)', \"The film is memorable for its use of special effects, including Alice's shrinking in the Hall of Many Doors, and in her large size, stuck inside of White Rabbit's home, reaching for help through a window.[3] It is now available from several sources, and is included as a bonus feature on a 1996 BBC DVD. It is also included in the Vintage Cinema: Experiments in early film 1900s DVD.\\nAlice in Wonderland is a 1903 British silent film directed by Cecil Hepworth and Percy Stow.[1] Only one copy of the original film is known to exist. The British Film Institute (BFI) partially restored the movie and its original film tinting and released it in 2010. According to BFI, the original film ran about 12 minutes; the restoration runs 9 minutes and 35 seconds.[1] At the beginning of the restoration, it states that this is the first movie adaptation of Lewis Carroll's children's book Alice's Adventures in Wonderland.[2]\\n\", 'Alice follows a large white rabbit down a \"Rabbit-hole\". She finds a tiny door. When she finds a bottle labeled \"Drink me\", she does, and shrinks, but not enough to pass through the door. She then eats something labeled \"Eat me\" and grows larger. She finds a fan which enables her to shrink enough to get into the door to a. \"Garden\" and try to get a dog to play with her. She enters the \"White Rabbit\\'s Tiny House\", but suddenly enlarges to her normal size. In order to get out, she used the fan.\\nShe enters in a kitchen, in which there is a cook and a woman holding a baby. She persuades the woman to give her the child and takes the infant outside after the cook starts throwing things around. The baby then turns into a pig and squirms out of her grip. The woman turned out to be a duchess. The Duchess\\'s \"Cheshire Cat\" appears and disappears a couple of times to Alice and directs her to the Mad Hatter\\'s \"Mad Tea-Party\". After a while, she leaves.\\nThe Queen invites Alice to join the royal procession, a parade of marching playing cards and others, headed by the White Rabbit. When Alice unintentionally offends the Queen, the latter summons the executioner. Alice \"boxes the ears\", then flees when all the playing cards come for her. Then she wakes up to realize that it was all nothing but a dream.\\n']\n",
      "['The Great Train Robberyi (1903 film)', 'In 1990, The Great Train Robbery was selected for preservation in the United States National Film Registry by the Library of Congress as being \"culturally, historically, or aesthetically significant\".\\nAt twelve minutes long, The Great Train Robbery film is considered a milestone in film making, expanding on Porter\\'s previous work Life of an American Fireman. The film used a number of then-unconventional techniques, including composite editing, on-location shooting, and frequent camera movement. The film is one of the earliest to use the technique of cross cutting, in which two scenes are shown to be occurring simultaneously but in different locations. Some prints were also hand colored in certain scenes. Techniques used in The Great Train Robbery were inspired by those used in Frank Mottershaw\\'s British film A Daring Daylight Burglary, released earlier in the year.[4] Film historians now largely consider The Great Train Robbery to be the first American action film and the first Western film with a \"recognizable form,\"[5][6] although it post-dates the British short Kidnapping by Indians (1899) by several years.\\nThe Great Train Robbery is a 1903 American silent short Western film written, produced, and directed by Edwin S. Porter, a former Edison Studios cameraman. Actors in the movie included Alfred C. Abadie, Broncho Billy Anderson and Justus D. Barnes, although there were no credits. Though a Western, it was filmed in Milltown, New Jersey. The film was inspired by Scott Marble\\'s 1896 stage play, and may also have been inspired by a 1900 train robbery perpetrated by Butch Cassidy.[2][3]\\n', '']\n",
      "['The Suburbanite', 'The Suburbanite is a 1904 American short comedy silent film directed by Wallace McCutcheion and starring John Troiano. The film was produced and distributed by the American Mutoscope & Biograph Company. Prints exist in the Library of Congress film archive and in the Museum of Modern Art film archive.[1]\\n', 'The film is about a family who move to the suburbs, hoping for a quiet life. Things start to go wrong, and the wife gets violent and starts throwing crockery, leading to her arrest.\\n']\n",
      "['The Little Train Robbery', 'The Little Train Robbery is a parodic sequel to the 1903 film The Great Train Robbery with an all-child cast, released on September 1, 1905.[1] Both were directed by Edwin S. Porter.\\n', 'The opening scene shows the interior of the robbers\\' den. The walls are decorated with the portraits of notorious criminals and pictures illustrating the exploits of famous bandits. Some of the gang are lounging about, while others are reading novels and illustrated papers. Although of youthful appearance, each is dressed like a typical Western desperado. The \"Bandit Queen,\" leading a blindfolded new recruit, now enters the room. He is led to the center of the room, raises his right hand and is solemnly sworn in. When the bandage is removed from his eyes he finds himself looking into the muzzles of a dozen or more 45\\'s. The gang then congratulates the new member and heartily shake his hand. The \"Bandit Queen\" who is evidently the leader of the gang, now calls for volunteers to hold up a train. All respond, but she picks out seven for the job who immediately leave the cabin.\\nThe next scene shows the gang breaking into a barn. They steal ponies and ride away. Upon reaching the place agreed upon they picket their ponies and leaving them in charge of a trusted member proceed to a wild mountain spot in a bend of the railroad, where the road runs over a steep embankment. The spot is an ideal one for holding up a train. Cross ties are now placed on the railroad track and the gang hide in some bushes close by and wait for the train. The train soon approaches and is brought to a stop. The engineer leaves his engine and proceeds to remove the obstruction on the track. While he is bending over one of the gang sneaks up behind them and hits him on the head with an axe, and knocks him senseless down the embankment, while the gang surround the train and hold up the passengers. After securing all the \"valuables,\" consisting principally of candy and dolls, the robbers uncouple the engine and one car and make their escape just in time to avoid a posse of police who appear on the scene. Further up the road they abandon the engine and car, take to the woods and soon reach their ponies.\\nIn the meantime the police have learned the particulars of the hold-up from the frightened passengers and have started up the railroad tracks after the fleeing robbers. The robbers are next seen riding up the bed of a shallow stream and finally reach their den, where the remainder of the gang have been waiting for them. Believing they have successfully eluded their pursuers, they proceed to divide the \"plunder.\" The police, however, have struck the right trail and are in close pursuit. While the \"plunder\" is being divided a sentry gives the alarm and the entire gang, abandoning everything, rush from the cabin barely in time to escape capture. The police make a hurried search and again start in pursuit. The robbers are so hard pressed that they are unable to reach their ponies, and are obliged to take chances on foot. The police now get in sight of the fleeing robbers and a lively chase follows through tall weeds, over a bridge and up a steep hill. Reaching a pond the police are close on their heels. The foremost robbers jump in clothes and all and strike out for the opposite bank. Two hesitate and are captured. Boats are secured and after an exciting tussle the entire gang is rounded up. In the mix up one of the police is dragged overboard. The final scene shows the entire gang of bedraggled and crestfallen robbers tied together with a rope and being led away by the police. Two of the police are loaded down with revolvers, knives and cartridge belts, and resemble walking arsenals. As a fitting climax a confederate steals out of the woods, cuts the rope and gallantly rescues the \"Bandit Queen.\"\\n']\n"
     ]
    },
    {
     "name": "stdout",
     "output_type": "stream",
     "text": [
      "['The Night Before Christmasi (1905 film)', \"The Night Before Christmas is a 1905 American silent short film directed by Edwin S. Porter for the Edison Manufacturing Company.[1] It closely follows Clement Clarke Moore's 1823 poem Twas the Night Before Christmas, and was the first film production of the poem.[2][3]\\n\", None]\n",
      "['Dream of a Rarebit Fiendi (1906 film)', 'In 2015, the United States Library of Congress selected the film for preservation in the National Film Registry, finding it \"culturally, historically, or aesthetically significant\".[3]\\nDream of a Rarebit Fiend is a 1906 American silent film directed by Edwin S. Porter for Edison Manufacturing Company.[1] It is a seven-minute live-action film adaptation of the comic strip Dream of the Rarebit Fiend by American cartoonist Winsor McCay. The film was marketed as using several special effects in which \"some of the photographic \\'stunts\\' have never been seen or attempted before.\"[2]\\n', 'The Rarebit Fiend gorges on Welsh rarebit at a restaurant. When he leaves, he begins to get dizzy as he starts to hallucinate. He desperately tries to hang onto a lamppost as the world spins all around him. A man helps him get home. He falls into bed and begins having more hallucinatory dreams. During a dream sequence, the furniture begins moving around the room. Imps emerge from a floating Welsh rarebit container and begin poking his head as he sleeps. His bed then begins dancing and spinning wildly around the room before flying out the window with the Fiend in it. The bed floats across the city as the Fiend floats up and off the bed. He hangs off the back and eventually gets caught on a weathervane atop a steeple. His bedclothes tear and he falls from the sky, crashing through his bedroom ceiling. The Fiend awakens from the dream after falling out of his bed.\\n']\n",
      "['From Leadville to Aspen: A Hold-Up in the Rockies', None, 'The film features a train traveling through the Rockies and a hold up created by two thugs placing logs on the line. They systematically rob the wealthy occupants at gunpoint and then make their getaway along the tracks and later by a hi-jacked horse and cart.\\n']\n",
      "['Kathleen Mavourneen (1906 film)', 'Kathleen Mavourneen is a 1906 silent short film by Edwin S. Porter, produced and distributed by Edison Manufacturing Company. It is based on the song “Kathleen Mavourneen” by Annie Crawford and Frederick Williams Nichols Crouch, which inspired the play by Dion Boucicault.\\n', 'Irish villager Kathleen is a tenant of Captain Clearfield, who controls local judges and criminals. Her father owes Clearfield a large debt. Terence O\\'More saves the village from Clearfield, causing a large celebration.\\nFilm historian Charles Musser writes of Porter\\'s adaptation, \"O\\'More not only rescues Kathleen from the villain but, through marriage, renews the family for another generation.\"[1]\\n']\n",
      "['Daniel Boonei (1907 film)', 'Daniel Boone; or, Pioneer Days in America is a 1907 American silent film directed by Wallace McCutcheon and Edwin S. Porter for the Edison Manufacturing Company.[1] It starred Florence Lawrence, often called \"the first movie star.\"\\n', \"Boone's daughter befriends an Indian maiden as Boone and his companion start out on a hunting expedition. While he is away, Boone's cabin is attacked by the Indians, who set it on fire and abduct Boone's daughter. Boone returns, swears vengeance, then heads out on the trail to the Indian camp. His daughter escapes but is chased. The Indians encounter Boone, which sets off a huge fight on the edge of a cliff. A burning arrow gets shot into the Indian camp. Boone gets tied to the stake and tortured. The burning arrow sets the Indian camp on fire, causing panic. Boone is rescued by his horse, and Boone has a knife fight in which he kills the Indian chief.[2]\\n\"]\n",
      "['How Brown Saw the Baseball Game', 'The film was released in November 1907. It received positive reviews in a 1908 issue of The Moving Picture World, a film journal, that reported the film was successful and \"truly funny.\" As of 2015[update] it is unclear whether a print of the film has survived. The identities of the film\\'s cast and production crew are not known. Film historians have noted similarities between the plot of How Brown Saw the Baseball Game and the Edwin S. Porter-directed comedy film How the Office Boy Saw the Ball Game released the previous year.\\nHow Brown Saw the Baseball Game, also known as How Jones Saw the Baseball Game, is an American short silent comedy film produced in 1907 and distributed by the Lubin Manufacturing Company. The film follows a baseball fan, named Mr. Brown, who drinks large quantities of alcohol before a baseball game and becomes so intoxicated that the game appears to him in reverse motion. During production, trick photography was used to achieve this effect.\\n', \"Before heading out to a baseball game at a nearby ballpark, sports fan Mr. Brown drinks several highball cocktails. He arrives at the ballpark to watch the game, but has become so inebriated that the game appears to him in reverse, with the players running the bases backwards and the baseball flying back into the pitcher's hand. After the game is over, Mr. Brown is escorted home by one of his friends. When they arrive at Brown's house, they encounter his wife who becomes furious with the friend and proceeds to physically assault him, believing he is responsible for her husband's severe intoxication.[1]\\n\"]\n",
      "['Laughing Gasi (film)', 'Laughing Gas is the title of several American movie shorts (1907, 1914 starring Charlie Chaplin, 1915, 1920) whose plot revolves around real or would-be dentists.\\n', 'The plot is that of a black woman going to the dentist for a toothache and being given laughing gas. On her way walking home, and in other situations, she can\\'t stop laughing, and everyone she meets \"catches\" the laughter from her, including a vendor and police officers.\\n']\n",
      "['The Adventures of Dollie', \"The Adventures of Dollie is a 1908 American silent film directed by  D. W. Griffith.  It was Griffith's debut film as a director. A print of the film survives in the Library of Congress film archive.[1] The film tells the story of a young girl who, after being kidnapped by a gypsy peddler, ends up trapped in a barrel as it floats downriver toward a waterfall.\\n\", \"On a beautiful summer day a father and mother take their daughter Dollie on an outing to the river. The mother refuses to buy a gypsy's wares. The gypsy tries to rob the mother, but the father drives him off. The gypsy returns to the camp and devises a plan. They return and kidnap Dollie while her parents are distracted. A rescue crew is organized, but the gypsy takes Dollie to his camp. They gag Dollie and hide her in a barrel before the rescue party gets to the camp. Once they leave the gypsies and escapes in their wagon. As the wagon crosses the river, the barrel falls into the water. Still sealed in the barrel, Dollie is swept downstream in dangerous currents. A boy who is fishing in the river finds the barrel, and Dollie is reunited safely with her parents.\\n\"]\n",
      "['The Black Viper', \"The Black Viper (aka La vipère noire in France) is a 1908 film directed by D. W. Griffith. The film was made by the American Mutoscope and Biograph Company when it and many other early film studios in America's first motion picture industry were based in Fort Lee, New Jersey at the beginning of the 20th century.[1]\\n\", \"A thug accosts a girl as she leaves her workplace but a man rescues her. The thug vows revenge and, with the help of two friends, attacks the girl and her rescuer again as they're going for a walk. This time they succeed in kidnapping the rescuer. He is bound and gagged and taken away in a cart. The girl runs home and gets help from several neighbors. They track the ruffians down to a cabin in the mountains where the gang has trapped their victim and set the cabin on fire. A thug and Rescuer fight on the roof of the house.\\n\"]\n",
      "['A Calamitous Elopement', 'A Calamitous Elopement is a 1908 American silent short comedy film directed by D. W. Griffith. A print of the film exists in the film archive of the Library of Congress.[1]\\n', \"A young couple decides to elope after being caught in the midst of a romantic moment by the woman's angry father. They make plans to leave, but a thief discovers their plans and hides in their trunk and waits for the right moment to steal their belongings.\\n\"]\n",
      "['The Call of the Wildi (1908 film)', None, 'A white girl (Florence Lawrence) rejects a proposal from an Indian brave (Charles Inslee) in this early one-reel Western melodrama. Despite the rejection, the Indian still comes to the girl\\'s defense when she is abducted by his warring tribe. In her first year in films, Florence Lawrence was already the most popular among the Biograph Company\\'s anonymous stock company players. By 1909, she was known the world over as \"The Biograph Girl.\"\\n']\n"
     ]
    }
   ],
   "source": [
    "with open('C:\\\\Users\\DELL\\Movies\\\\tsv_sample1.tsv','wt') as f1:\n",
    "    \n",
    "    for i in range(1,20): \n",
    "        path=\"C:\\\\Users\\DELL\\Movies\\M1article_\"+str(i)+\".html\"\n",
    "        with open(path,\"r\",encoding=\"utf-8\") as f:\n",
    "            contents=f.read()\n",
    "            page=BeautifulSoup(contents,'lxml')  \n",
    "            row= [title(page), intro(page),plot(page)]\n",
    "            print(row)\n",
    "        writer = csv.writer(f1, delimiter='\\t')\n",
    "        writer.writerow(row)\n",
    "    writer.writerow([\"title\",\"intro\", \"plot\"])  "
   ]
  },
  {
   "cell_type": "code",
   "execution_count": null,
   "metadata": {},
   "outputs": [],
   "source": []
  },
  {
   "cell_type": "code",
   "execution_count": null,
   "metadata": {},
   "outputs": [],
   "source": []
  },
  {
   "cell_type": "code",
   "execution_count": null,
   "metadata": {},
   "outputs": [],
   "source": []
  },
  {
   "cell_type": "markdown",
   "metadata": {},
   "source": [
    "## 4. Algorithm question"
   ]
  },
  {
   "cell_type": "code",
   "execution_count": 8,
   "metadata": {},
   "outputs": [
    {
     "name": "stdout",
     "output_type": "stream",
     "text": [
      "The length of the LPS is 7\n"
     ]
    }
   ],
   "source": [
    "# Returns the length of the longest  \n",
    "# palindromic subsequence in seq  \n",
    "def lps(seq, i, j): \n",
    "      \n",
    "    # Base Case 1: If there is only 1 character  \n",
    "    if (i == j): \n",
    "        return 1\n",
    "  \n",
    "    # Base Case 2: If there are only 2 character and both are same\n",
    "    if (seq[i] == seq[j] and i + 1 == j):\n",
    "        return 2\n",
    "      \n",
    "    # If the first and last characters match  \n",
    "    if (seq[i] == seq[j]): \n",
    "        return lps(seq, i + 1, j - 1) + 2\n",
    "  \n",
    "    # If the first and last characters do not match \n",
    "    return max(lps(seq, i, j - 1),  \n",
    "               lps(seq, i + 1, j)) \n",
    "  \n",
    "# Code to run the program\n",
    "if __name__ == '__main__': \n",
    "    seq = \"DATAMININGSAPIENZA\"\n",
    "    n = len(seq) \n",
    "    print(\"The length of the LPS is\",lps(seq, 0, n - 1)) "
   ]
  },
  {
   "cell_type": "code",
   "execution_count": null,
   "metadata": {},
   "outputs": [],
   "source": []
  }
 ],
 "metadata": {
  "kernelspec": {
   "display_name": "Python 3",
   "language": "python",
   "name": "python3"
  },
  "language_info": {
   "codemirror_mode": {
    "name": "ipython",
    "version": 3
   },
   "file_extension": ".py",
   "mimetype": "text/x-python",
   "name": "python",
   "nbconvert_exporter": "python",
   "pygments_lexer": "ipython3",
   "version": "3.7.3"
  }
 },
 "nbformat": 4,
 "nbformat_minor": 2
}
