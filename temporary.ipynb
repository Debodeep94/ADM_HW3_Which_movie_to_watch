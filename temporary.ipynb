{
 "cells": [
  {
   "cell_type": "code",
   "execution_count": null,
   "metadata": {},
   "outputs": [],
   "source": [
    "from bs4 import BeautifulSoup\n",
    "import requests\n",
    "import json\n",
    "soup = BeautifulSoup(open('C:/Users/leona/Desktop/ADMHMK-3/movies2.html'), \"html.parser\")\n",
    "soup.head()\n",
    "lst_a = soup.select('a')\n",
    "urls = []\n",
    "for i in lst_a:\n",
    "    urls.append(i.get('href'))\n",
    "urls[0]\n",
    "soup = BeautifulSoup(open('C:/Users/leona/Desktop/ADMHMK-3/movies1.html'), \"html.parser\")\n",
    "soup.head()\n",
    "lst_a = soup.select('a')\n",
    "lst_a\n",
    "for i in lst_a:\n",
    "    urls.append(i.get('href'))\n",
    "urls[10000] \n",
    "soup = BeautifulSoup(open('C:/Users/leona/Desktop/ADMHMK-3/movies3.html'), \"html.parser\")\n",
    "soup.head()\n",
    "lst_a = soup.select('a')\n",
    "lst_a\n",
    "for i in lst_a:\n",
    "    urls.append(i.get('href'))\n",
    "urls[20000]\n",
    "from urllib.error import URLError, HTTPError, ContentTooShortError\n",
    "import time\n",
    "k=0\n",
    "for i in range(len(urls)):\n",
    "    try:\n",
    "        ur_l = requests.get(urls[i])\n",
    "        soup = BeautifulSoup(ur_l.content, 'html.parser')\n",
    "        soup = soup.prettify(\"utf-8\")        \n",
    "        stringa = 'Articles/article-'+str(k)+'.html'\n",
    "        k = k+1\n",
    "        Html_file= open(stringa, \"wb\")\n",
    "        Html_file.write(soup)\n",
    "        Html_file.close()\n",
    "    except(URLError,HTTPError, ContentTooShortError)  as e:\n",
    "        html = None\n",
    "    #time.sleep(0.001) "
   ]
  }
 ],
 "metadata": {
  "kernelspec": {
   "display_name": "Python 3",
   "language": "python",
   "name": "python3"
  },
  "language_info": {
   "codemirror_mode": {
    "name": "ipython",
    "version": 3
   },
   "file_extension": ".py",
   "mimetype": "text/x-python",
   "name": "python",
   "nbconvert_exporter": "python",
   "pygments_lexer": "ipython3",
   "version": "3.7.5"
  }
 },
 "nbformat": 4,
 "nbformat_minor": 2
}
